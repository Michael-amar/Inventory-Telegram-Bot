{
 "cells": [
  {
   "cell_type": "code",
   "execution_count": 15,
   "metadata": {},
   "outputs": [
    {
     "data": {
      "text/plain": [
       "'{\"Status\":\"FAILED\"}'"
      ]
     },
     "execution_count": 15,
     "metadata": {},
     "output_type": "execute_result"
    }
   ],
   "source": [
    "import requests\n",
    "import urllib\n",
    "from requests import Response\n",
    "ksp_url = f\"https://ksp.co.il/m_action/api/mlay/226097\"\n",
    "\n",
    "\n",
    "ivory_url = f\"https://www.ivory.co.il/catalog-items/ws/check_balance/{4454}\"\n",
    "ivory_req = urllib.request.Request(ivory_url, data=None, headers={'User-Agent':'Mozilla/5.0 (Macintosh; Intel Mac OS X 10_15_7) AppleWebKit/537.36 (KHTML, like Gecko) Chrome/108.0.0.0 Safari/537.36'}, origin_req_host=None, unverifiable=False, method=None)\n",
    "\n",
    "ivory_res = urllib.request.urlopen(ivory_req)\n",
    "ivory_res_as_text = ivory_res.read().decode(\"utf-8\")\n",
    "ivory_res_as_text"
   ]
  },
  {
   "cell_type": "code",
   "execution_count": 16,
   "metadata": {},
   "outputs": [],
   "source": [
    "import json\n",
    "def ivory_serial_2_title(ivory_serial_number, key='title'):\n",
    "    ivory_serial_number = ivory_serial_number.replace(\"/\", \"***\")\n",
    "    url = f'https://www.ivory.co.il/search/ws/main-site-search/{ivory_serial_number}'\n",
    "    ivory_search_request = urllib.request.Request(url, data=None, headers={'User-Agent':'Mozilla/5.0 (Macintosh; Intel Mac OS X 10_15_7) AppleWebKit/537.36 (KHTML, like Gecko) Chrome/108.0.0.0 Safari/537.36'}, origin_req_host=None, unverifiable=False, method=None)\n",
    "\n",
    "    ivory_search_res = urllib.request.urlopen(ivory_search_request)\n",
    "    ivory_search_result_as_text = ivory_search_res.read().decode(\"utf-8\")\n",
    "    try:\n",
    "        results = json.loads(ivory_search_result_as_text)[\"Results\"]\n",
    "        print(results)\n",
    "        _key = results[\"catalog\"][\"products\"][0][key]\n",
    "        return _key\n",
    "    except:\n",
    "        return None"
   ]
  }
 ],
 "metadata": {
  "kernelspec": {
   "display_name": "telebot",
   "language": "python",
   "name": "python3"
  },
  "language_info": {
   "codemirror_mode": {
    "name": "ipython",
    "version": 3
   },
   "file_extension": ".py",
   "mimetype": "text/x-python",
   "name": "python",
   "nbconvert_exporter": "python",
   "pygments_lexer": "ipython3",
   "version": "3.11.0"
  },
  "orig_nbformat": 4,
  "vscode": {
   "interpreter": {
    "hash": "3d11748c9d3677a9ff34c85e670f22c122bc92cbc26e389f46bb3752d20bc81e"
   }
  }
 },
 "nbformat": 4,
 "nbformat_minor": 2
}
